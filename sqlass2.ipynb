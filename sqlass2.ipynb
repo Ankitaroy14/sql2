{
 "cells": [
  {
   "cell_type": "code",
   "execution_count": null,
   "id": "7e6ce3d0",
   "metadata": {},
   "outputs": [],
   "source": [
    "1) Write an SQL query to print the first three characters of  FIRST_NAME from Worker\n",
    "table.\n",
    "\n",
    "ans: cursor.execute(\"select substring(first_name,1,3) from worker\")\n",
    "    \n",
    "2)   Write an SQL query to find the position of the alphabet (‘a’) in the first name\n",
    "column ‘Amitabh’ from Worker table.\n",
    "\n",
    "ans:- cursor.execute(\" select charindex(\"a\",\"Amitabh\")\") as Position\n",
    "    \n",
    "3)     Write an SQL query to print the name of employees having the highest salary in each\n",
    "department.\n",
    "\n",
    "ans cursor.execute(\"select DEPT, MAX(SALARY) FROM Worker GROUP BY DEPT\")"
   ]
  }
 ],
 "metadata": {
  "kernelspec": {
   "display_name": "Python 3 (ipykernel)",
   "language": "python",
   "name": "python3"
  },
  "language_info": {
   "codemirror_mode": {
    "name": "ipython",
    "version": 3
   },
   "file_extension": ".py",
   "mimetype": "text/x-python",
   "name": "python",
   "nbconvert_exporter": "python",
   "pygments_lexer": "ipython3",
   "version": "3.9.7"
  }
 },
 "nbformat": 4,
 "nbformat_minor": 5
}
